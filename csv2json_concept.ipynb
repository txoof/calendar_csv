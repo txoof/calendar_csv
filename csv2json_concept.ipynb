{
 "cells": [
  {
   "cell_type": "code",
   "execution_count": 1,
   "id": "9df45ab4",
   "metadata": {},
   "outputs": [],
   "source": [
    "import csv\n",
    "from pathlib import Path"
   ]
  },
  {
   "cell_type": "code",
   "execution_count": null,
   "id": "9ecdd7ea",
   "metadata": {},
   "outputs": [],
   "source": [
    "\n",
    "# proof of concept CSV to JSON -- chokes on csv with leading and trailing spaces in time fields\n",
    "# file = './6day_IT.csv'\n",
    "file = './all_es.csv'\n",
    "file_list = []\n",
    "schedule_json = {\n",
    "    'standard': {},\n",
    "    'alternate': {}\n",
    "}\n",
    "\n",
    "with open(file, 'r') as csv_file:\n",
    "    csv_reader = csv.reader(csv_file)\n",
    "    for row in csv_reader:\n",
    "        file_list.append(row)\n",
    "        \n",
    "headers = file_list.pop(0)\n",
    "\n",
    "for row in file_list:\n",
    "    temp_dict = {}\n",
    "    for idx, header in enumerate(headers):\n",
    "        temp_dict[header] = row[idx]\n",
    "\n",
    "    minutes = datetime.strptime(temp_dict['End Time'], '%H:%M') - datetime.strptime(temp_dict['Start Time'], '%H:%M')\n",
    "\n",
    "    temp_dict['duration'] = minutes.seconds//60\n",
    "\n",
    "    if temp_dict['Alternate']:\n",
    "        schedule = 'alternate'\n",
    "    else:\n",
    "        schedule = 'standard'\n",
    "    try:\n",
    "        schedule_json[schedule][temp_dict['Day']].append(temp_dict)\n",
    "    except KeyError:\n",
    "        schedule_json[schedule][temp_dict['Day']] = [temp_dict]\n",
    "#     schedule_json['standard'][temp_dict['Day']] = temp_dict\n",
    "    \n",
    "\n",
    "# file_list = []\n",
    "# my_json = {\n",
    "#     'standard': {},\n",
    "#     'alternate': {}\n",
    "# }\n",
    "# with open(f, 'r') as csv_f:\n",
    "#     cr = csv.reader(csv_f)\n",
    "#     for r in cr:\n",
    "#         file_list.append(r)\n",
    "# headers = file_list.pop(0)\n",
    "# for r in file_list:\n",
    "#     temp_d = {}\n",
    "#     for h, idx in enumerate(headers):\n",
    "#         temp_d[h] = r[idx]"
   ]
  }
 ],
 "metadata": {
  "kernelspec": {
   "display_name": "calendar_csv-d-E6BNfa",
   "language": "python",
   "name": "calendar_csv-d-e6bnfa"
  },
  "language_info": {
   "codemirror_mode": {
    "name": "ipython",
    "version": 3
   },
   "file_extension": ".py",
   "mimetype": "text/x-python",
   "name": "python",
   "nbconvert_exporter": "python",
   "pygments_lexer": "ipython3",
   "version": "3.9.4"
  }
 },
 "nbformat": 4,
 "nbformat_minor": 5
}
