{
 "cells": [
  {
   "cell_type": "code",
   "execution_count": 1,
   "id": "national-texture",
   "metadata": {},
   "outputs": [],
   "source": [
    "import csv\n",
    "# remove this and move to just argparse -- use only standard modules\n",
    "import ArgConfigParse\n",
    "from dateutil import rrule\n",
    "from datetime import datetime\n",
    "from datetime import timedelta\n",
    "import logging\n",
    "from pathlib import Path\n",
    "import json\n",
    "import argparse\n",
    "from sys import exit\n",
    "from sys import argv"
   ]
  },
  {
   "cell_type": "code",
   "execution_count": 2,
   "id": "white-senate",
   "metadata": {},
   "outputs": [],
   "source": [
    "WEEKDAYS = {\n",
    "    'MONDAY': 0,\n",
    "    'TUESDAY': 1,\n",
    "    'WEDNESDAY': 2,\n",
    "    'THURSDAY': 3,\n",
    "    'FRIDAY': 4,\n",
    "    'SATURDAY': 5,\n",
    "    'SUNDAY': 6\n",
    "}"
   ]
  },
  {
   "cell_type": "code",
   "execution_count": 3,
   "id": "chronic-submission",
   "metadata": {},
   "outputs": [],
   "source": [
    "def do_exit(msg=None, level=0):\n",
    "    if level > 0:\n",
    "        \n",
    "        print(f'exiting due to error:\\n     {msg}')\n",
    "    elif msg:\n",
    "        print(f'{msg}')\n",
    "        print('exiting')\n",
    "    exit(level)\n",
    "    "
   ]
  },
  {
   "cell_type": "code",
   "execution_count": 4,
   "id": "charged-template",
   "metadata": {},
   "outputs": [],
   "source": [
    "def build_empty_schedule(days, blocks):\n",
    "    '''build a JSON compatible dictionary with all required schedule fields\n",
    "    Args:\n",
    "        days(`int`): number of days in a cycle\n",
    "        blocks(`int`): total number of blocks in a day (including breaks, lunch, etc.)\n",
    "        \n",
    "    Returns:\n",
    "        dict'''\n",
    "    template_day = {}\n",
    "    blocks_list = []\n",
    "    block = {'name': '', \n",
    "              'start': '00:00',\n",
    "              'duration': 0}\n",
    "    for j in range(0, blocks):\n",
    "        blocks_list.append(block)\n",
    "\n",
    "    for i in range(0, days):\n",
    "        template_day[f'day_{i+1}'] = blocks_list\n",
    "    return {'standard': template_day, 'alternate': template_day}"
   ]
  },
  {
   "cell_type": "code",
   "execution_count": 36,
   "id": "organizational-problem",
   "metadata": {},
   "outputs": [],
   "source": [
    "def write_empty_schedule(file, days, blocks):\n",
    "    '''write empty JSON formatted schedule to `file`\n",
    "    Args:\n",
    "        file(`Path`): path to write\n",
    "        days(`int`): number of days in a cycle\n",
    "        blocks(`int`): total number of blocks in a day including breaks, lunch, etc.\n",
    "        \n",
    "    Returns:\n",
    "        `Path`'''\n",
    "    \n",
    "    if Path(file).exists():\n",
    "        raise FileExistsError(f'{file} already exits, refusing to over-write')\n",
    "#     json_data = json.dumps(build_empty_schedule())\n",
    "    with open(file, 'w') as outfile:\n",
    "        json.dump(build_empty_schedule(days, blocks), outfile, indent=5)\n",
    "    return file"
   ]
  },
  {
   "cell_type": "code",
   "execution_count": 63,
   "id": "unexpected-horror",
   "metadata": {},
   "outputs": [],
   "source": [
    "def read_non_instruction(file, dt_format):\n",
    "    '''return list of daytime objects based on dates in file\n",
    "    \n",
    "    Args:\n",
    "        file(`str` or `Path`): file to read'''\n",
    "    # read vacation/non instructional days list\n",
    "    with open(file, 'r') as open_file:\n",
    "        file_txt = open_file.readlines()\n",
    "\n",
    "    non_instruction_dt = []\n",
    "    for i in file_txt:\n",
    "        try:\n",
    "            non_instruction_dt.append(datetime.strptime(i.strip(), dt_format))\n",
    "        except ValueError as e:\n",
    "            logging.debug(f'skipping unknown date format in {file_txt}: \"{i}\"\"')\n",
    "        \n",
    "    return non_instruction_dt\n",
    "\n",
    "    "
   ]
  },
  {
   "cell_type": "code",
   "execution_count": 38,
   "id": "focal-enough",
   "metadata": {},
   "outputs": [],
   "source": [
    "def read_schedule_json(file):\n",
    "    '''read a json formatted file\n",
    "    Args:\n",
    "        file(`Path`): file to read\n",
    "    \n",
    "    Returns:\n",
    "        `dict`'''\n",
    "    try:\n",
    "        with open(file, 'r') as json_file:\n",
    "            json_data = json.load(json_file)\n",
    "    except Exception as e:\n",
    "        do_exit(f'failed to read json file \"{file}\": {e}')\n",
    "    \n",
    "    return json_data\n"
   ]
  },
  {
   "cell_type": "code",
   "execution_count": 39,
   "id": "baking-villa",
   "metadata": {},
   "outputs": [],
   "source": [
    "def set_school_days(start, end, vacation, dt_format):\n",
    "    '''create a list of school days excluding weekends and non-instructional days\n",
    "    Args:\n",
    "        start(`str`): first day of school - in dt_format (e.g. 2021/08/17)\n",
    "        end(`str`): last day of school - in dt_format (e.g. 2022/06/18)\n",
    "        vacation(`list`): list of non-instructional days in dt_format\n",
    "        dt_format(`str`): datetime format e.g. %Y/%m/%d\n",
    "        \n",
    "    Returns:\n",
    "        `list`\n",
    "        '''\n",
    "    \n",
    "    start_dt = datetime.strptime(start, dt_format)\n",
    "    end_dt = datetime.strptime(end, dt_format)\n",
    "    \n",
    "    # set actual school days\n",
    "    school_days = []\n",
    "    for dt in rrule.rrule(rrule.DAILY, dtstart=start_dt, until=end_dt):\n",
    "        if dt not in vacation and datetime.weekday(dt) in range(0, 5):\n",
    "                school_days.append(dt)\n",
    "                \n",
    "    return school_days\n",
    "        "
   ]
  },
  {
   "cell_type": "code",
   "execution_count": 40,
   "id": "raised-discharge",
   "metadata": {},
   "outputs": [],
   "source": [
    "def get_events(dicts):\n",
    "    '''process list of of dicts and return all unique `name` values\n",
    "    Args:\n",
    "        dicts(`list` of `dict`): list of dictionaries containing key \"name\"\n",
    "        \n",
    "    Returns:\n",
    "        `set` of name'''\n",
    "    if not isinstance(dicts, list):\n",
    "        raise TypeError(f'expected list of dictionaries, recieved {type(dicts)}')\n",
    "    events_unique = set()\n",
    "    for d in dicts:\n",
    "        for day, schedule in d.items():\n",
    "            for event in schedule:\n",
    "                events_unique.add(event['name'])\n",
    "    return(events_unique)"
   ]
  },
  {
   "cell_type": "code",
   "execution_count": 41,
   "id": "adolescent-watts",
   "metadata": {},
   "outputs": [],
   "source": [
    "def day_schedule(l, date):\n",
    "    '''return a google calendar compatible list of dict for writing CSVs\n",
    "    \n",
    "    Args:\n",
    "        l(`list`): list of all blocks from a single day\n",
    "        date(`str`): date string e.g. 2021/08/17\n",
    "        \n",
    "    Returns:\n",
    "        `list of dict` '''\n",
    "    dt_format = '%H:%M'\n",
    "    schedule = []\n",
    "    for idx, val in enumerate(l):\n",
    "        subject = val['name']\n",
    "        start_date = date\n",
    "        start_time = val['start']\n",
    "        start_dt = datetime.strptime(start_time, dt_format)\n",
    "        end_dt = start_dt + timedelta(minutes = val['duration'])\n",
    "        end_time = datetime.strftime(end_dt, dt_format)\n",
    "        event = {\n",
    "            'Subject': subject,\n",
    "            'Start Date': start_date,\n",
    "            'Start Time': start_time,\n",
    "            'End Time': end_time\n",
    "        }\n",
    "        schedule.append(event)\n",
    "    return schedule"
   ]
  },
  {
   "cell_type": "code",
   "execution_count": 42,
   "id": "infrared-cycle",
   "metadata": {},
   "outputs": [],
   "source": [
    "def write_csv(filename, title, events):\n",
    "    '''write a csv file for all events that match \"title\"\n",
    "    \n",
    "    Args: \n",
    "        filename(`Path`): file to write\n",
    "        title(`str`): string to match in event Subject e.g. \"Block C\"\n",
    "        events(`list` of `dict`)\n",
    "        \n",
    "    Returns: \n",
    "        `bool`: true on success\n",
    "    '''\n",
    "    with open(filename, 'w') as csvfile:\n",
    "        fieldnames = events[0].keys()\n",
    "        writer = csv.DictWriter(csvfile, fieldnames=fieldnames)\n",
    "        writer.writeheader()\n",
    "        for event in events:\n",
    "            if title == '*':\n",
    "                writer.writerow(event)\n",
    "            elif title in event['Subject']:\n",
    "                writer.writerow(event)\n",
    "                \n",
    "    return True "
   ]
  },
  {
   "cell_type": "code",
   "execution_count": 12,
   "id": "still-nursing",
   "metadata": {},
   "outputs": [
    {
     "data": {
      "text/plain": [
       "['/Users/aaronciuffo/.local/share/virtualenvs/calendar_csv-LU1jQNan/lib/python3.9/site-packages/ipykernel_launcher.py',\n",
       " '-f',\n",
       " '/Users/aaronciuffo/Library/Jupyter/runtime/kernel-b115072c-f406-431c-98da-9f9e64206fbf.json']"
      ]
     },
     "execution_count": 12,
     "metadata": {},
     "output_type": "execute_result"
    }
   ],
   "source": [
    "argv"
   ]
  },
  {
   "cell_type": "code",
   "execution_count": 13,
   "id": "verified-marshall",
   "metadata": {},
   "outputs": [],
   "source": [
    "argv.extend(['-s', '2021/08/17'])"
   ]
  },
  {
   "cell_type": "code",
   "execution_count": 14,
   "id": "spanish-resort",
   "metadata": {},
   "outputs": [],
   "source": [
    "argv.extend(['-e', '2022/06/16'])"
   ]
  },
  {
   "cell_type": "code",
   "execution_count": 82,
   "id": "vocal-commander",
   "metadata": {},
   "outputs": [],
   "source": [
    "argv.extend(['-n', './vacation_days.txt'])\n"
   ]
  },
  {
   "cell_type": "code",
   "execution_count": 90,
   "id": "allied-eagle",
   "metadata": {},
   "outputs": [],
   "source": [
    "argv.extend(['-c', './schedule.json', '-a', 'Wednesday'])"
   ]
  },
  {
   "cell_type": "code",
   "execution_count": 83,
   "id": "temporal-locator",
   "metadata": {},
   "outputs": [],
   "source": [
    "argv.extend(['-v', '-v'])"
   ]
  },
  {
   "cell_type": "code",
   "execution_count": 85,
   "id": "academic-deadline",
   "metadata": {},
   "outputs": [
    {
     "data": {
      "text/plain": [
       "'-v'"
      ]
     },
     "execution_count": 85,
     "metadata": {},
     "output_type": "execute_result"
    }
   ],
   "source": [
    "argv.pop()\n"
   ]
  },
  {
   "cell_type": "code",
   "execution_count": 76,
   "id": "enhanced-dispatch",
   "metadata": {},
   "outputs": [],
   "source": [
    "def get_args():\n",
    "    parser = argparse.ArgumentParser(description='process command line arguments')\n",
    "    parser.add_argument('-s', '--start_date', default=None,\n",
    "                       help='First day of classes in YYYY/MM/DD format', metavar='\"YYYY/MM/DD\"')\n",
    "    parser.add_argument('-e', '--end_date', default=None,\n",
    "                        help='Last day of classes in YYYY/MM/DD format', metavar='\"YYYY/MM/DD\"')\n",
    "    parser.add_argument('-n', '--non_instruction', default=None,\n",
    "                       help='File containing non-instructional days between start and end date, one per line matching the daytime format (YYYY/MM/DD)')\n",
    "    parser.add_argument('-c', '--schedule_file', default=None,\n",
    "                        help='file containing JSON schedule data')\n",
    "    parser.add_argument('-d', '--date_format', default='%Y/%m/%d',\n",
    "                       help='datetime format see: https://docs.python.org/3/library/datetime.html#strftime-and-strptime-behavior',\n",
    "                       metavar='\"%Y/%m/%d\"')\n",
    "    parser.add_argument('-a', '--alternate_day', default=None,\n",
    "                       help='day to use \"alternate\" schedule', metavar=\"Wednesday\")\n",
    "    parser.add_argument('-o', '--output_path', default='~/Desktop/',\n",
    "                       help='location to output CSV files')\n",
    "    parser.add_argument('-b', '--blank_schedule', default=None,\n",
    "                       help='generate a blank JSON schedule file template on the Desktop using supplied name',\n",
    "                       metavar='filename')\n",
    "    parser.add_argument('-v', '--verbose', action='count', default=0,\n",
    "                       help='increase verbosity in logging (additional -v increases level)')\n",
    "    \n",
    "    return parser.parse_known_args()\n",
    "\n"
   ]
  },
  {
   "cell_type": "code",
   "execution_count": 69,
   "id": "hairy-certificate",
   "metadata": {},
   "outputs": [
    {
     "data": {
      "text/plain": [
       "Namespace(start_date='2021/08/17', end_date='2022/06/16', non_instruction=None, schedule_file=None, date_format='%Y/%m/%d', alternate_day=None, output_path='~/Desktop/', blank_schedule=None, verbose=0)"
      ]
     },
     "execution_count": 69,
     "metadata": {},
     "output_type": "execute_result"
    }
   ],
   "source": [
    "args"
   ]
  },
  {
   "cell_type": "code",
   "execution_count": 102,
   "id": "residential-mineral",
   "metadata": {},
   "outputs": [],
   "source": [
    "# def main():\n",
    "args, unknown_args = get_args()\n",
    "log_level = 40\n",
    "if args.verbose:\n",
    "    log_level = log_level-args.verbose\n",
    "logging.root.setLevel(log_level)\n",
    "\n",
    "if args.blank_schedule:\n",
    "    try:\n",
    "        write_empty_schedule(Path(args.blank_schedule+'.JSON').expanduser(), 8, 8)\n",
    "        do_exit(f'wrote blank schedule to {file}.JSON')\n",
    "    except (FileExistsError, OSError) as e:\n",
    "        do_exit(e, 1)\n",
    "        \n",
    "        \n",
    "if args.non_instruction:\n",
    "    file_non_instruction = Path(args.non_instruction).expanduser()  \n",
    "else:\n",
    "    do_exit('no non-instructional days file provided; cannot continue')  \n",
    "try:  \n",
    "    non_instruction = read_non_instruction(file_non_instruction, dt_format=args.date_format)\n",
    "except OSError as e:\n",
    "    do_exit(e, 1)\n",
    "    \n",
    "if args.schedule_file:\n",
    "    file_schedule = Path(args.schedule_file).expanduser()\n",
    "else:\n",
    "    do_exit('no schedule file provided; cannot continue')\n",
    "try:\n",
    "    schedule_json = read_schedule_json(file_schedule)\n",
    "except OSError as e:\n",
    "    do_exit(e, 1)\n",
    "\n",
    "\n",
    "if args.output_path:\n",
    "    path_output = Path(args.output_path).expanduser()\n",
    "else:\n",
    "    do_exit('no output path supplied; cannot continue')\n",
    "    \n",
    "if args.alternate_day:\n",
    "    try:\n",
    "        alternate_day = WEEKDAYS[str(args.alternate_day).upper()]\n",
    "    except KeyError:\n",
    "        do_exit(f'ERROR: {args.alternate_day} is not a valid alternate day. Valid choices are: {WEEKDAYS.keys()}')\n",
    "else:\n",
    "    alternate_day = None\n",
    "\n",
    "if args.start_date:\n",
    "    sy_start = args.start_date\n",
    "else:\n",
    "    do_exit(f'no school-year start date provided; cannot continue')\n",
    "\n",
    "if args.end_date:\n",
    "    sy_end = args.end_date\n",
    "else:\n",
    "    do_exit(f'no school-year end date provided; cannot continue ')\n",
    "\n",
    "if not args.date_format:\n",
    "    do_exit('no date format provided; cannot continue. HINT: try removing the -d/--date_format arguments')\n",
    "\n"
   ]
  },
  {
   "cell_type": "code",
   "execution_count": 22,
   "id": "personalized-family",
   "metadata": {},
   "outputs": [
    {
     "ename": "IndentationError",
     "evalue": "expected an indented block (<ipython-input-22-7750b753de30>, line 15)",
     "output_type": "error",
     "traceback": [
      "\u001b[0;36m  File \u001b[0;32m\"<ipython-input-22-7750b753de30>\"\u001b[0;36m, line \u001b[0;32m15\u001b[0m\n\u001b[0;31m    config = ArgConfigParse.ConfigFile(['setup.ini'])\u001b[0m\n\u001b[0m    ^\u001b[0m\n\u001b[0;31mIndentationError\u001b[0m\u001b[0;31m:\u001b[0m expected an indented block\n"
     ]
    }
   ],
   "source": [
    "# # def main():\n",
    "\n",
    "\n",
    "\n",
    "# config = ArgConfigParse.ConfigFile(['setup.ini'])\n",
    "# vacation_file = Path('./vacation_days.txt').absolute().expanduser()\n",
    "# schedule_file = Path('./schedule.json')\n",
    "# output_path = Path('~/Desktop').expanduser()\n",
    "# alternate_day = 'Wednesday'\n",
    "\n",
    "# # parse config files\n",
    "# config.parse_config()\n",
    "# main_cfg = config.config_dict\n",
    "\n",
    "# # wrap in try -- don't require an alternate day (e.g. elementary school)\n",
    "# alternate_day = WEEKDAYS[alternate_day.upper()]\n",
    "\n",
    "# sy_start = main_cfg['dates']['start']\n",
    "# sy_end = main_cfg['dates']['end']\n",
    "# dt_format = main_cfg['main']['dt_format']\n",
    "\n",
    "# schedule_json = read_schedule_json(schedule_file)\n",
    "# schedule_standard = schedule_json['standard']\n",
    "# rot_len = len(schedule_standard)\n",
    "# schedule_alt = schedule_json['alternate']\n",
    "# unique_events = get_events([schedule_standard, schedule_alt])\n",
    "# vacation = read_vacations(vacation_file)\n",
    "# school_days = set_school_days(start=sy_start, \n",
    "#                               end=sy_end, vacation=vacation, \n",
    "#                               dt_format=dt_format)\n",
    "# # also produce a calendar of just Day 1, day 2, day 3 etc.\n",
    "\n",
    "# # build a list of all events\n",
    "# all_events = []\n",
    "# schedule_lookup = schedule_standard\n",
    "# for idx, val in enumerate(school_days):\n",
    "#     # use alternate day schedule\n",
    "#     if datetime.weekday(val) == alternate_day:\n",
    "#         schedule_lookup = schedule_alt\n",
    "#     else:\n",
    "#         schedule_lookup = schedule_standard\n",
    "#     # convert date to human readable \n",
    "#     date = datetime.strftime(val, dt_format)\n",
    "#     # use day 1, day 2, day N... schedule\n",
    "#     day = sorted(schedule_lookup)[idx%rot_len]\n",
    "#     # add the appropriate schedule for this_day\n",
    "#     this_day = day_schedule(schedule_lookup[day], date)\n",
    "#     all_events.extend(this_day)\n",
    "\n",
    "# # write out a CSV for each unique schedule\n",
    "# for event in unique_events:\n",
    "#     output_file = Path(output_path/f'{event}.csv')\n",
    "#     write_csv(output_file, event, all_events)\n",
    "# write_csv(output_path/'all events.csv', '*', all_events)"
   ]
  },
  {
   "cell_type": "code",
   "execution_count": null,
   "id": "smaller-scholar",
   "metadata": {},
   "outputs": [],
   "source": [
    "# # also produce a calendar of just Day 1, day 2, day 3 etc.\n",
    "# all_events = []\n",
    "# schedule_lookup = schedule_standard\n",
    "# for idx, val in enumerate(school_days):\n",
    "#     if datetime.weekday(val) == alternate_day:\n",
    "#         schedule_lookup = schedule_alt\n",
    "#     else:\n",
    "#         schedule_lookup = schedule_standard\n",
    "#     date = datetime.strftime(val, dt_format)\n",
    "#     day = sorted(schedule_lookup)[idx%rot_len]\n",
    "#     this_day = day_schedule(schedule_lookup[day], date)\n",
    "#     all_events.extend(this_day)"
   ]
  },
  {
   "cell_type": "code",
   "execution_count": null,
   "id": "multiple-economy",
   "metadata": {},
   "outputs": [],
   "source": [
    "if __name__ == '__main__':\n",
    "    s = main()"
   ]
  },
  {
   "cell_type": "code",
   "execution_count": null,
   "id": "arranged-capacity",
   "metadata": {},
   "outputs": [],
   "source": [
    "# def parse_schedules(schedule_dict):\n",
    "#     # parse schedule file into lookup tables\n",
    "#     if not isinstance(schedule_dict, dict):\n",
    "#         raise TypeError (f'schedule_dict must be of type(dict), not {type(schedule_dict)}')\n",
    "#     schedule_mttf = {} \n",
    "#     schedule_w = {}\n",
    "#     for key, value in schedule_dict.items():\n",
    "#         if key.startswith('%'):\n",
    "#             if 'wednesday' in key:\n",
    "#                 schedule_w[key] = value\n",
    "#             else:\n",
    "#                 schedule_mttf[key] = value\n",
    "#         else:\n",
    "#             logging.warning(f'unrecongized \"day\" item in confiuration file(s) {schedule.config_files}: {key}')\n",
    "#             logging.info(f'all \"day\" items must follow the format \"[%day N] or \"[%day N wednesday]\"') \n",
    "#     return(schedule_mttf, schedule_w)"
   ]
  }
 ],
 "metadata": {
  "kernelspec": {
   "display_name": "calendar_csv-LU1jQNan",
   "language": "python",
   "name": "calendar_csv-lu1jqnan"
  },
  "language_info": {
   "codemirror_mode": {
    "name": "ipython",
    "version": 3
   },
   "file_extension": ".py",
   "mimetype": "text/x-python",
   "name": "python",
   "nbconvert_exporter": "python",
   "pygments_lexer": "ipython3",
   "version": "3.9.1"
  }
 },
 "nbformat": 4,
 "nbformat_minor": 5
}
