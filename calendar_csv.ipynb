{
 "cells": [
  {
   "cell_type": "code",
   "execution_count": 1,
   "id": "national-texture",
   "metadata": {},
   "outputs": [],
   "source": [
    "import csv\n",
    "import ArgConfigParse\n",
    "from dateutil import rrule\n",
    "from datetime import datetime\n"
   ]
  },
  {
   "cell_type": "code",
   "execution_count": 2,
   "id": "qualified-puppy",
   "metadata": {},
   "outputs": [],
   "source": [
    "config = ArgConfigParse.ConfigFile(['setup.ini'])"
   ]
  },
  {
   "cell_type": "code",
   "execution_count": 3,
   "id": "unlimited-concentrate",
   "metadata": {},
   "outputs": [
    {
     "data": {
      "text/plain": [
       "{'dates': {'start': '2021/08/18', 'end': '2022/06/17'}}"
      ]
     },
     "execution_count": 3,
     "metadata": {},
     "output_type": "execute_result"
    }
   ],
   "source": [
    "config.parse_config()"
   ]
  },
  {
   "cell_type": "code",
   "execution_count": 4,
   "id": "honey-journalism",
   "metadata": {},
   "outputs": [
    {
     "data": {
      "text/plain": [
       "{'dates': {'start': '2021/08/18', 'end': '2022/06/17'}}"
      ]
     },
     "execution_count": 4,
     "metadata": {},
     "output_type": "execute_result"
    }
   ],
   "source": [
    "config.config_dict"
   ]
  },
  {
   "cell_type": "code",
   "execution_count": 20,
   "id": "cosmetic-slovenia",
   "metadata": {},
   "outputs": [],
   "source": [
    "with open('./vacation_days.txt', 'r') as vacation_file:\n",
    "    vacation_txt = vacation_file.readlines()\n",
    "\n",
    "vacation_dt = []\n",
    "for i in vacation_txt:\n",
    "    try:\n",
    "        vacation_dt.append(datetime.strptime(i.strip(), '%Y/%m/%d'))\n",
    "    except ValueError as e:\n",
    "        pass\n"
   ]
  },
  {
   "cell_type": "code",
   "execution_count": 54,
   "id": "educated-prize",
   "metadata": {},
   "outputs": [],
   "source": [
    "days = []\n",
    "for dt in rrule.rrule(rrule.DAILY, dtstart=datetime.strptime(config.config_dict['dates']['start'], '%Y/%m/%d'),\n",
    "           until=datetime.strptime(config.config_dict['dates']['end'], '%Y/%m/%d')):\n",
    "    if dt not in vacation_dt and datetime.weekday(dt) in range(0, 5):\n",
    "            days.append(dt)"
   ]
  },
  {
   "cell_type": "code",
   "execution_count": null,
   "id": "personalized-family",
   "metadata": {},
   "outputs": [],
   "source": []
  }
 ],
 "metadata": {
  "kernelspec": {
   "display_name": "calendar_csv-LU1jQNan",
   "language": "python",
   "name": "calendar_csv-lu1jqnan"
  },
  "language_info": {
   "codemirror_mode": {
    "name": "ipython",
    "version": 3
   },
   "file_extension": ".py",
   "mimetype": "text/x-python",
   "name": "python",
   "nbconvert_exporter": "python",
   "pygments_lexer": "ipython3",
   "version": "3.9.1"
  }
 },
 "nbformat": 4,
 "nbformat_minor": 5
}
