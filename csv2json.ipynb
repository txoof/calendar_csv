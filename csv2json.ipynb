{
 "cells": [
  {
   "cell_type": "code",
   "execution_count": 2,
   "id": "46f2a359",
   "metadata": {},
   "outputs": [],
   "source": [
    "import csv\n",
    "from pathlib import Path\n",
    "from datetime import datetime\n",
    "from datetime import timedelta\n",
    "import json"
   ]
  },
  {
   "cell_type": "code",
   "execution_count": 3,
   "id": "da3dece0",
   "metadata": {},
   "outputs": [
    {
     "ename": "KeyError",
     "evalue": "'Start Time'",
     "output_type": "error",
     "traceback": [
      "\u001b[0;31m---------------------------------------------------------------------------\u001b[0m",
      "\u001b[0;31mKeyError\u001b[0m                                  Traceback (most recent call last)",
      "\u001b[0;32m<ipython-input-3-1e3ef2f964f2>\u001b[0m in \u001b[0;36m<module>\u001b[0;34m\u001b[0m\n\u001b[1;32m     20\u001b[0m         \u001b[0mtemp_dict\u001b[0m\u001b[0;34m[\u001b[0m\u001b[0mheader\u001b[0m\u001b[0;34m]\u001b[0m \u001b[0;34m=\u001b[0m \u001b[0mrow\u001b[0m\u001b[0;34m[\u001b[0m\u001b[0midx\u001b[0m\u001b[0;34m]\u001b[0m\u001b[0;34m\u001b[0m\u001b[0;34m\u001b[0m\u001b[0m\n\u001b[1;32m     21\u001b[0m \u001b[0;34m\u001b[0m\u001b[0m\n\u001b[0;32m---> 22\u001b[0;31m     \u001b[0mminutes\u001b[0m \u001b[0;34m=\u001b[0m \u001b[0mdatetime\u001b[0m\u001b[0;34m.\u001b[0m\u001b[0mstrptime\u001b[0m\u001b[0;34m(\u001b[0m\u001b[0mtemp_dict\u001b[0m\u001b[0;34m[\u001b[0m\u001b[0;34m'end'\u001b[0m\u001b[0;34m]\u001b[0m\u001b[0;34m,\u001b[0m \u001b[0;34m'%H:%M'\u001b[0m\u001b[0;34m)\u001b[0m \u001b[0;34m-\u001b[0m \u001b[0mdatetime\u001b[0m\u001b[0;34m.\u001b[0m\u001b[0mstrptime\u001b[0m\u001b[0;34m(\u001b[0m\u001b[0mtemp_dict\u001b[0m\u001b[0;34m[\u001b[0m\u001b[0;34m'Start Time'\u001b[0m\u001b[0;34m]\u001b[0m\u001b[0;34m,\u001b[0m \u001b[0;34m'%H:%M'\u001b[0m\u001b[0;34m)\u001b[0m\u001b[0;34m\u001b[0m\u001b[0;34m\u001b[0m\u001b[0m\n\u001b[0m\u001b[1;32m     23\u001b[0m \u001b[0;34m\u001b[0m\u001b[0m\n\u001b[1;32m     24\u001b[0m     \u001b[0mtemp_dict\u001b[0m\u001b[0;34m[\u001b[0m\u001b[0;34m'duration'\u001b[0m\u001b[0;34m]\u001b[0m \u001b[0;34m=\u001b[0m \u001b[0mminutes\u001b[0m\u001b[0;34m.\u001b[0m\u001b[0mseconds\u001b[0m\u001b[0;34m//\u001b[0m\u001b[0;36m60\u001b[0m\u001b[0;34m\u001b[0m\u001b[0;34m\u001b[0m\u001b[0m\n",
      "\u001b[0;31mKeyError\u001b[0m: 'Start Time'"
     ]
    }
   ],
   "source": [
    "\n",
    "# proof of concept CSV to JSON -- chokes on csv with leading and trailing spaces in time fields\n",
    "# file = './6day_IT.csv'\n",
    "file = './ue.csv'\n",
    "file_list = []\n",
    "schedule_json = {\n",
    "    'standard': {},\n",
    "    'alternate': {}\n",
    "}\n",
    "\n",
    "with open(file, 'r') as csv_file:\n",
    "    csv_reader = csv.reader(csv_file)\n",
    "    for row in csv_reader:\n",
    "        file_list.append(row)\n",
    "        \n",
    "headers = file_list.pop(0)\n",
    "\n",
    "for row in file_list:\n",
    "    temp_dict = {}\n",
    "    for idx, header in enumerate(headers):\n",
    "        temp_dict[header] = row[idx]\n",
    "\n",
    "    minutes = datetime.strptime(temp_dict['end'], '%H:%M') - datetime.strptime(temp_dict['Start Time'], '%H:%M')\n",
    "\n",
    "    temp_dict['duration'] = minutes.seconds//60\n",
    "    \n",
    "    # skip if there's no alternate\n",
    "    try:\n",
    "        if temp_dict['Alternate']:\n",
    "            schedule = 'alternate'\n",
    "    except KeyError:\n",
    "        schedule = 'standard'\n",
    "    else:\n",
    "        schedule = 'standard'\n",
    "    try:\n",
    "        schedule_json[schedule][temp_dict['Day']].append(temp_dict)\n",
    "    except KeyError:\n",
    "        schedule_json[schedule][temp_dict['Day']] = [temp_dict]\n",
    "#     schedule_json['standard'][temp_dict['Day']] = temp_dict\n",
    "    \n",
    "\n",
    "# file_list = []\n",
    "# my_json = {\n",
    "#     'standard': {},\n",
    "#     'alternate': {}\n",
    "# }\n",
    "# with open(f, 'r') as csv_f:\n",
    "#     cr = csv.reader(csv_f)\n",
    "#     for r in cr:\n",
    "#         file_list.append(r)\n",
    "# headers = file_list.pop(0)\n",
    "# for r in file_list:\n",
    "#     temp_d = {}\n",
    "#     for h, idx in enumerate(headers):\n",
    "#         temp_d[h] = r[idx]"
   ]
  },
  {
   "cell_type": "code",
   "execution_count": 4,
   "id": "cace9ee5",
   "metadata": {},
   "outputs": [
    {
     "data": {
      "text/plain": [
       "{'standard': {}, 'alternate': {}}"
      ]
     },
     "execution_count": 4,
     "metadata": {},
     "output_type": "execute_result"
    }
   ],
   "source": [
    "\n",
    "schedule_json"
   ]
  },
  {
   "cell_type": "code",
   "execution_count": 5,
   "id": "d5be0734",
   "metadata": {},
   "outputs": [],
   "source": [
    "json_file = './new.json'\n",
    "with open(json_file, 'w') as outfile:\n",
    "    json.dump(schedule_json, outfile, indent=5)"
   ]
  },
  {
   "cell_type": "code",
   "execution_count": null,
   "id": "063380c1",
   "metadata": {},
   "outputs": [],
   "source": []
  },
  {
   "cell_type": "code",
   "execution_count": null,
   "id": "236b8728",
   "metadata": {},
   "outputs": [],
   "source": []
  }
 ],
 "metadata": {
  "kernelspec": {
   "display_name": "calendar_csv-d-E6BNfa",
   "language": "python",
   "name": "calendar_csv-d-e6bnfa"
  },
  "language_info": {
   "codemirror_mode": {
    "name": "ipython",
    "version": 3
   },
   "file_extension": ".py",
   "mimetype": "text/x-python",
   "name": "python",
   "nbconvert_exporter": "python",
   "pygments_lexer": "ipython3",
   "version": "3.9.4"
  }
 },
 "nbformat": 4,
 "nbformat_minor": 5
}
